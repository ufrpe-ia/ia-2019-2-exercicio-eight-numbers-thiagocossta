{
 "cells": [
  {
   "cell_type": "markdown",
   "metadata": {
    "colab_type": "text",
    "id": "RobNkl0sdZoZ"
   },
   "source": [
    "# O jogos dos 8 números\n",
    "\n",
    "### Definição:\n",
    "Dado um arranjo aleatório do tabuleiro, fornecer a sequência de passos para chegar a solução (números ordenados)\n",
    "\n",
    "![text](http://www.aiai.ed.ac.uk/~gwickler/images/8-puzzle-states.png)"
   ]
  },
  {
   "cell_type": "code",
   "execution_count": null,
   "metadata": {
    "colab": {},
    "colab_type": "code",
    "id": "LGgruN2SdZob"
   },
   "outputs": [],
   "source": [
    "# eightpuzzle.py\n",
    "# --------------\n",
    "# Licensing Information:  You are free to use or extend these projects for\n",
    "# educational purposes provided that (1) you do not distribute or publish\n",
    "# solutions, (2) you retain this notice, and (3) you provide clear\n",
    "# attribution to UC Berkeley, including a link to http://ai.berkeley.edu.\n",
    "# \n",
    "# Attribution Information: The Pacman AI projects were developed at UC Berkeley.\n",
    "# The core projects and autograders were primarily created by John DeNero\n",
    "# (denero@cs.berkeley.edu) and Dan Klein (klein@cs.berkeley.edu).\n",
    "# Student side autograding was added by Brad Miller, Nick Hay, and\n",
    "# Pieter Abbeel (pabbeel@cs.berkeley.edu).\n",
    "\n",
    "\n",
    "import random\n",
    "\n",
    "\n",
    "class EightPuzzleState:\n",
    "    \"\"\"\n",
    "    The Eight Puzzle is described in the course textbook on\n",
    "    page 64.\n",
    "    This class defines the mechanics of the puzzle itself.  The\n",
    "    task of recasting this puzzle as a search problem is left to\n",
    "    the EightPuzzleSearchProblem class.\n",
    "    \"\"\"\n",
    "    def __init__( self, numbers ):\n",
    "        \"\"\"\n",
    "          Constructs a new eight puzzle from an ordering of numbers.\n",
    "        numbers: a list of integers from 0 to 8 representing an\n",
    "          instance of the eight puzzle.  0 represents the blank\n",
    "          space.  Thus, the list\n",
    "            [1, 0, 2, 3, 4, 5, 6, 7, 8]\n",
    "          represents the eight puzzle:\n",
    "            -------------\n",
    "            | 1 |   | 2 |\n",
    "            -------------\n",
    "            | 3 | 4 | 5 |\n",
    "            -------------\n",
    "            | 6 | 7 | 8 |\n",
    "            ------------\n",
    "        The configuration of the puzzle is stored in a 2-dimensional\n",
    "        list (a list of lists) 'cells'.\n",
    "        \"\"\"\n",
    "        self.cells = []\n",
    "        numbers = numbers[:] # Make a copy so as not to cause side-effects.\n",
    "        numbers.reverse()\n",
    "        for row in range( 3 ):\n",
    "            self.cells.append( [] )\n",
    "            for col in range( 3 ):\n",
    "                self.cells[row].append( numbers.pop() )\n",
    "                if self.cells[row][col] == 0:\n",
    "                    self.blankLocation = row, col\n",
    "\n",
    "    def isGoal( self ):\n",
    "        \"\"\"\n",
    "          Checks to see if the puzzle is in its goal state.\n",
    "            -------------\n",
    "            |   | 1 | 2 |\n",
    "            -------------\n",
    "            | 3 | 4 | 5 |\n",
    "            -------------\n",
    "            | 6 | 7 | 8 |\n",
    "            -------------\n",
    "        >>> EightPuzzleState([0, 1, 2, 3, 4, 5, 6, 7, 8]).isGoal()\n",
    "        True\n",
    "        >>> EightPuzzleState([1, 0, 2, 3, 4, 5, 6, 7, 8]).isGoal()\n",
    "        False\n",
    "        \"\"\"\n",
    "        current = 0\n",
    "        for row in range( 3 ):\n",
    "            for col in range( 3 ):\n",
    "                if current != self.cells[row][col]:\n",
    "                    return False\n",
    "                current += 1\n",
    "        return True\n",
    "\n",
    "    def legalMoves( self ):\n",
    "        \"\"\"\n",
    "          Returns a list of legal moves from the current state.\n",
    "        Moves consist of moving the blank space up, down, left or right.\n",
    "        These are encoded as 'up', 'down', 'left' and 'right' respectively.\n",
    "        >>> EightPuzzleState([0, 1, 2, 3, 4, 5, 6, 7, 8]).legalMoves()\n",
    "        ['down', 'right']\n",
    "        \"\"\"\n",
    "        moves = []\n",
    "        row, col = self.blankLocation\n",
    "        if(row != 0):\n",
    "            moves.append('up')\n",
    "        if(row != 2):\n",
    "            moves.append('down')\n",
    "        if(col != 0):\n",
    "            moves.append('left')\n",
    "        if(col != 2):\n",
    "            moves.append('right')\n",
    "        return moves\n",
    "\n",
    "    def result(self, move):\n",
    "        \"\"\"\n",
    "          Returns a new eightPuzzle with the current state and blankLocation\n",
    "        updated based on the provided move.\n",
    "        The move should be a string drawn from a list returned by legalMoves.\n",
    "        Illegal moves will raise an exception, which may be an array bounds\n",
    "        exception.\n",
    "        NOTE: This function *does not* change the current object.  Instead,\n",
    "        it returns a new object.\n",
    "        \"\"\"\n",
    "        row, col = self.blankLocation\n",
    "        if(move == 'up'):\n",
    "            newrow = row - 1\n",
    "            newcol = col\n",
    "        elif(move == 'down'):\n",
    "            newrow = row + 1\n",
    "            newcol = col\n",
    "        elif(move == 'left'):\n",
    "            newrow = row\n",
    "            newcol = col - 1\n",
    "        elif(move == 'right'):\n",
    "            newrow = row\n",
    "            newcol = col + 1\n",
    "        else:\n",
    "            raise \"Illegal Move\"\n",
    "\n",
    "        # Create a copy of the current eightPuzzle\n",
    "        newPuzzle = EightPuzzleState([0, 0, 0, 0, 0, 0, 0, 0, 0])\n",
    "        newPuzzle.cells = [values[:] for values in self.cells]\n",
    "        # And update it to reflect the move\n",
    "        newPuzzle.cells[row][col] = self.cells[newrow][newcol]\n",
    "        newPuzzle.cells[newrow][newcol] = self.cells[row][col]\n",
    "        newPuzzle.blankLocation = newrow, newcol\n",
    "        return newPuzzle\n",
    "\n",
    "    # Utilities for comparison and display\n",
    "    def __eq__(self, other):\n",
    "        \"\"\"\n",
    "            Overloads '==' such that two eightPuzzles with the same configuration\n",
    "          are equal.\n",
    "          >>> EightPuzzleState([0, 1, 2, 3, 4, 5, 6, 7, 8]) == \\\n",
    "              EightPuzzleState([1, 0, 2, 3, 4, 5, 6, 7, 8]).result('left')\n",
    "          True\n",
    "        \"\"\"\n",
    "        for row in range( 3 ):\n",
    "            if self.cells[row] != other.cells[row]:\n",
    "                return False\n",
    "        return True\n",
    "\n",
    "    def __hash__(self):\n",
    "        return hash(str(self.cells))\n",
    "\n",
    "    def __getAsciiString(self):\n",
    "        \"\"\"\n",
    "          Returns a display string for the maze\n",
    "        \"\"\"\n",
    "        lines = []\n",
    "        horizontalLine = ('-' * (13))\n",
    "        lines.append(horizontalLine)\n",
    "        for row in self.cells:\n",
    "            rowLine = '|'\n",
    "            for col in row:\n",
    "                if col == 0:\n",
    "                    col = ' '\n",
    "                rowLine = rowLine + ' ' + col.__str__() + ' |'\n",
    "            lines.append(rowLine)\n",
    "            lines.append(horizontalLine)\n",
    "        return '\\n'.join(lines)\n",
    "\n",
    "    def __str__(self):\n",
    "        return self.__getAsciiString()\n"
   ]
  },
  {
   "cell_type": "markdown",
   "metadata": {
    "colab_type": "text",
    "id": "S6bVoQQ0dZoe"
   },
   "source": [
    "## Criando uma instância do jogo:"
   ]
  },
  {
   "cell_type": "code",
   "execution_count": null,
   "metadata": {
    "colab": {},
    "colab_type": "code",
    "id": "POqP8j-cdZof"
   },
   "outputs": [],
   "source": [
    "print(EightPuzzleState(numbers=[1, 0, 2, 3, 4, 5, 6, 7, 8]))"
   ]
  },
  {
   "cell_type": "markdown",
   "metadata": {
    "colab_type": "text",
    "id": "3wRJcBerdZoi"
   },
   "source": [
    "## Algumas funcões auxiliares"
   ]
  },
  {
   "cell_type": "code",
   "execution_count": null,
   "metadata": {
    "colab": {},
    "colab_type": "code",
    "id": "EhJE3u-kdZoi"
   },
   "outputs": [],
   "source": [
    "EIGHT_PUZZLE_DATA = [[1, 0, 2, 3, 4, 5, 6, 7, 8],\n",
    "                     [1, 7, 8, 2, 3, 4, 5, 6, 0],\n",
    "                     [4, 3, 2, 7, 0, 5, 1, 6, 8],\n",
    "                     [5, 1, 3, 4, 0, 2, 6, 7, 8],\n",
    "                     [1, 2, 5, 7, 6, 8, 0, 4, 3],\n",
    "                     [0, 3, 1, 6, 8, 2, 7, 5, 4]]\n",
    "\n",
    "def loadEightPuzzle(puzzleNumber):\n",
    "    \"\"\"\n",
    "      puzzleNumber: The number of the eight puzzle to load.\n",
    "      Returns an eight puzzle object generated from one of the\n",
    "      provided puzzles in EIGHT_PUZZLE_DATA.\n",
    "      puzzleNumber can range from 0 to 5.\n",
    "      >>> print loadEightPuzzle(0)\n",
    "      -------------\n",
    "      | 1 |   | 2 |\n",
    "      -------------\n",
    "      | 3 | 4 | 5 |\n",
    "      -------------\n",
    "      | 6 | 7 | 8 |\n",
    "      -------------\n",
    "    \"\"\"\n",
    "    return EightPuzzleState(EIGHT_PUZZLE_DATA[puzzleNumber])\n",
    "\n",
    "def createRandomEightPuzzle(moves=100):\n",
    "    \"\"\"\n",
    "      moves: number of random moves to apply\n",
    "      Creates a random eight puzzle by applying\n",
    "      a series of 'moves' random moves to a solved\n",
    "      puzzle.\n",
    "    \"\"\"\n",
    "    puzzle = EightPuzzleState([0,1,2,3,4,5,6,7,8])\n",
    "    for i in range(moves):\n",
    "        # Execute a random legal move\n",
    "        puzzle = puzzle.result(random.sample(puzzle.legalMoves(), 1)[0])\n",
    "    return puzzle"
   ]
  },
  {
   "cell_type": "code",
   "execution_count": null,
   "metadata": {
    "colab": {},
    "colab_type": "code",
    "id": "-fddwO-KdZol"
   },
   "outputs": [],
   "source": [
    "print(loadEightPuzzle(puzzleNumber=1))"
   ]
  },
  {
   "cell_type": "markdown",
   "metadata": {
    "colab_type": "text",
    "id": "S9JSuFrQdZon"
   },
   "source": [
    "## Definindo o problema em termos de buscas"
   ]
  },
  {
   "cell_type": "code",
   "execution_count": null,
   "metadata": {
    "colab": {},
    "colab_type": "code",
    "id": "gr-RG6N3dZoo"
   },
   "outputs": [],
   "source": [
    "class SearchProblem:\n",
    "    \"\"\"\n",
    "    This class outlines the structure of a search problem, but doesn't implement\n",
    "    any of the methods (in object-oriented terminology: an abstract class).\n",
    "    You do not need to change anything in this class, ever.\n",
    "    \"\"\"\n",
    "\n",
    "    def getStartState(self):\n",
    "        \"\"\"\n",
    "        Returns the start state for the search problem.\n",
    "        \"\"\"\n",
    "        raise NotImplementedError()\n",
    "\n",
    "    def isGoalState(self, state):\n",
    "        \"\"\"\n",
    "          state: Search state\n",
    "        Returns True if and only if the state is a valid goal state.\n",
    "        \"\"\"\n",
    "        raise NotImplementedError()\n",
    "\n",
    "    def getSuccessors(self, state):\n",
    "        \"\"\"\n",
    "          state: Search state\n",
    "        For a given state, this should return a list of triples, (successor,\n",
    "        action, stepCost), where 'successor' is a successor to the current\n",
    "        state, 'action' is the action required to get there, and 'stepCost' is\n",
    "        the incremental cost of expanding to that successor.\n",
    "        \"\"\"\n",
    "        raise NotImplementedError()\n",
    "\n",
    "    def getCostOfActions(self, actions):\n",
    "        \"\"\"\n",
    "         actions: A list of actions to take\n",
    "        This method returns the total cost of a particular sequence of actions.\n",
    "        The sequence must be composed of legal moves.\n",
    "        \"\"\"\n",
    "        raise NotImplementedError()\n",
    "        \n",
    "class EightPuzzleSearchProblem(SearchProblem):\n",
    "    \"\"\"\n",
    "      Implementation of a SearchProblem for the  Eight Puzzle domain\n",
    "      Each state is represented by an instance of an eightPuzzle.\n",
    "    \"\"\"\n",
    "    def __init__(self,puzzle):\n",
    "        \"Creates a new EightPuzzleSearchProblem which stores search information.\"\n",
    "        self.puzzle = puzzle\n",
    "\n",
    "    def getStartState(self):\n",
    "        return puzzle\n",
    "\n",
    "    def isGoalState(self,state):\n",
    "        return state.isGoal()\n",
    "\n",
    "    def getSuccessors(self,state):\n",
    "        \"\"\"\n",
    "          Returns list of (successor, action, stepCost) pairs where\n",
    "          each succesor is either left, right, up, or down\n",
    "          from the original state and the cost is 1.0 for each\n",
    "        \"\"\"\n",
    "        succ = []\n",
    "        for a in state.legalMoves():\n",
    "            succ.append((state.result(a), a, 1))\n",
    "        return succ\n",
    "\n",
    "    def getCostOfActions(self, actions):\n",
    "        \"\"\"\n",
    "         actions: A list of actions to take\n",
    "        This method returns the total cost of a particular sequence of actions.  The sequence must\n",
    "        be composed of legal moves\n",
    "        \"\"\"\n",
    "        return len(actions)"
   ]
  },
  {
   "cell_type": "markdown",
   "metadata": {
    "colab_type": "text",
    "id": "x2uDFXJ8dnRW"
   },
   "source": [
    "Testando:"
   ]
  },
  {
   "cell_type": "code",
   "execution_count": null,
   "metadata": {
    "colab": {},
    "colab_type": "code",
    "id": "sXItlZz6dZoq"
   },
   "outputs": [],
   "source": [
    "puzzle = loadEightPuzzle(puzzleNumber=1)\n",
    "print(puzzle)\n",
    "print(puzzle.legalMoves())"
   ]
  },
  {
   "cell_type": "code",
   "execution_count": null,
   "metadata": {
    "colab": {},
    "colab_type": "code",
    "id": "mDxYnFKFdZot"
   },
   "outputs": [],
   "source": [
    "search_problem = EightPuzzleSearchProblem(puzzle)\n",
    "\n",
    "for p in search_problem.getSuccessors(puzzle):\n",
    "  print(p[1])\n",
    "  print(p[0])\n",
    "  print('isGoal?', search_problem.isGoalState(p[0]))\n",
    "  print()"
   ]
  },
  {
   "cell_type": "markdown",
   "metadata": {
    "colab_type": "text",
    "id": "qgW0l-f5hW0t"
   },
   "source": [
    "# Exercício"
   ]
  },
  {
   "cell_type": "markdown",
   "metadata": {
    "colab_type": "text",
    "id": "aO_CriR1hayj"
   },
   "source": [
    "## Exercicio 1:\n",
    "Implemente o algoritmo de Busca em Largura que recebe uma instância de `SearchProblem`:"
   ]
  },
  {
   "cell_type": "code",
   "execution_count": 63,
   "metadata": {
    "colab": {},
    "colab_type": "code",
    "id": "E-SP_gG6ewYD"
   },
   "outputs": [
    {
     "name": "stdout",
     "output_type": "stream",
     "text": [
      "-------------\n",
      "| 1 |   | 2 |\n",
      "-------------\n",
      "| 3 | 4 | 5 |\n",
      "-------------\n",
      "| 6 | 7 | 8 |\n",
      "-------------\n",
      "\n",
      "\n",
      "-------------\n",
      "|   | 1 | 2 |\n",
      "-------------\n",
      "| 3 | 4 | 5 |\n",
      "-------------\n",
      "| 6 | 7 | 8 |\n",
      "-------------\n",
      "final cost: 1\n"
     ]
    }
   ],
   "source": [
    "#aux class with queue functions\n",
    "class Queue:\n",
    "    def __init__(self):\n",
    "        self.list = []\n",
    "\n",
    "    def push(self,item):\n",
    "        self.list.insert(0,item)\n",
    "\n",
    "    def pop(self):\n",
    "        return self.list.pop()\n",
    "\n",
    "    def isEmpty(self):\n",
    "        return len(self.list) == 0\n",
    "\n",
    "#aux class with stack functions\n",
    "class Stack:\n",
    "    def __init__(self):\n",
    "        self.list = []\n",
    "\n",
    "    def push(self,item):\n",
    "        self.list.append(item)\n",
    "\n",
    "    def pop(self):\n",
    "        return self.list.pop()\n",
    "\n",
    "    def isEmpty(self):\n",
    "        return len(self.list) == 0\n",
    "    \n",
    "def breadthFirstSearch(problem):\n",
    "    fringe = Queue()\n",
    "    visitedList = []\n",
    "\n",
    "    fringe.push((problem.getStartState(),[],0))\n",
    "    (state,toDirection,toCost) = fringe.pop()\n",
    "    #add to visited points list\n",
    "    visitedList.append(state)\n",
    "\n",
    "    while not problem.isGoalState(state): #while n we search the path\n",
    "        successors = problem.getSuccessors(state) #get next points\n",
    "        for son in successors:\n",
    "            if not son[0] in visitedList: \n",
    "                fringe.push((son[0],toDirection + [son[1]],toCost + son[2]))\n",
    "                visitedList.append(son[0]) # add to visited points\n",
    "        (state,toDirection,toCost) = fringe.pop()\n",
    "\n",
    "    return (state, toCost)\n",
    "puzzle = loadEightPuzzle(0)\n",
    "print(puzzle)\n",
    "test = EightPuzzleSearchProblem(puzzle)\n",
    "(solution, cost) = breadthFirstSearch(test)\n",
    "print(\"\\n\")\n",
    "print(solution)\n",
    "print(\"final cost: \"+ str(cost))"
   ]
  },
  {
   "cell_type": "markdown",
   "metadata": {
    "colab_type": "text",
    "id": "zAnlbH0cljWN"
   },
   "source": [
    "## Exercicio 2:\n",
    "Implemente o algoritmo de Busca em Profundidade que recebe uma instância de `SearchProblem`:"
   ]
  },
  {
   "cell_type": "code",
   "execution_count": 65,
   "metadata": {
    "colab": {},
    "colab_type": "code",
    "id": "tL4OuYsrljWT"
   },
   "outputs": [
    {
     "name": "stdout",
     "output_type": "stream",
     "text": [
      "-------------\n",
      "| 1 | 7 | 8 |\n",
      "-------------\n",
      "| 2 | 3 | 4 |\n",
      "-------------\n",
      "| 5 | 6 |   |\n",
      "-------------\n"
     ]
    },
    {
     "ename": "KeyboardInterrupt",
     "evalue": "",
     "output_type": "error",
     "traceback": [
      "\u001b[1;31m---------------------------------------------------------------------------\u001b[0m",
      "\u001b[1;31mKeyboardInterrupt\u001b[0m                         Traceback (most recent call last)",
      "\u001b[1;32m<ipython-input-65-1afdefd9d819>\u001b[0m in \u001b[0;36m<module>\u001b[1;34m\u001b[0m\n\u001b[0;32m     34\u001b[0m \u001b[0mprint\u001b[0m\u001b[1;33m(\u001b[0m\u001b[0mpuzzle\u001b[0m\u001b[1;33m)\u001b[0m\u001b[1;33m\u001b[0m\u001b[1;33m\u001b[0m\u001b[0m\n\u001b[0;32m     35\u001b[0m \u001b[0mtest\u001b[0m \u001b[1;33m=\u001b[0m \u001b[0mEightPuzzleSearchProblem\u001b[0m\u001b[1;33m(\u001b[0m\u001b[0mpuzzle\u001b[0m\u001b[1;33m)\u001b[0m\u001b[1;33m\u001b[0m\u001b[1;33m\u001b[0m\u001b[0m\n\u001b[1;32m---> 36\u001b[1;33m \u001b[1;33m(\u001b[0m\u001b[0msolution\u001b[0m\u001b[1;33m,\u001b[0m \u001b[0mcostBFS\u001b[0m\u001b[1;33m)\u001b[0m \u001b[1;33m=\u001b[0m \u001b[0mbreadthFirstSearch\u001b[0m\u001b[1;33m(\u001b[0m\u001b[0mtest\u001b[0m\u001b[1;33m)\u001b[0m\u001b[1;33m\u001b[0m\u001b[1;33m\u001b[0m\u001b[0m\n\u001b[0m\u001b[0;32m     37\u001b[0m \u001b[0mprint\u001b[0m\u001b[1;33m(\u001b[0m\u001b[1;34m\"\\n\"\u001b[0m\u001b[1;33m)\u001b[0m\u001b[1;33m\u001b[0m\u001b[1;33m\u001b[0m\u001b[0m\n\u001b[0;32m     38\u001b[0m \u001b[0mprint\u001b[0m\u001b[1;33m(\u001b[0m\u001b[0msolution\u001b[0m\u001b[1;33m)\u001b[0m\u001b[1;33m\u001b[0m\u001b[1;33m\u001b[0m\u001b[0m\n",
      "\u001b[1;32m<ipython-input-63-ab72d536044a>\u001b[0m in \u001b[0;36mbreadthFirstSearch\u001b[1;34m(problem)\u001b[0m\n\u001b[0;32m     39\u001b[0m         \u001b[0msuccessors\u001b[0m \u001b[1;33m=\u001b[0m \u001b[0mproblem\u001b[0m\u001b[1;33m.\u001b[0m\u001b[0mgetSuccessors\u001b[0m\u001b[1;33m(\u001b[0m\u001b[0mstate\u001b[0m\u001b[1;33m)\u001b[0m \u001b[1;31m#get next points\u001b[0m\u001b[1;33m\u001b[0m\u001b[1;33m\u001b[0m\u001b[0m\n\u001b[0;32m     40\u001b[0m         \u001b[1;32mfor\u001b[0m \u001b[0mson\u001b[0m \u001b[1;32min\u001b[0m \u001b[0msuccessors\u001b[0m\u001b[1;33m:\u001b[0m\u001b[1;33m\u001b[0m\u001b[1;33m\u001b[0m\u001b[0m\n\u001b[1;32m---> 41\u001b[1;33m             \u001b[1;32mif\u001b[0m \u001b[1;32mnot\u001b[0m \u001b[0mson\u001b[0m\u001b[1;33m[\u001b[0m\u001b[1;36m0\u001b[0m\u001b[1;33m]\u001b[0m \u001b[1;32min\u001b[0m \u001b[0mvisitedList\u001b[0m\u001b[1;33m:\u001b[0m\u001b[1;33m\u001b[0m\u001b[1;33m\u001b[0m\u001b[0m\n\u001b[0m\u001b[0;32m     42\u001b[0m                 \u001b[0mfringe\u001b[0m\u001b[1;33m.\u001b[0m\u001b[0mpush\u001b[0m\u001b[1;33m(\u001b[0m\u001b[1;33m(\u001b[0m\u001b[0mson\u001b[0m\u001b[1;33m[\u001b[0m\u001b[1;36m0\u001b[0m\u001b[1;33m]\u001b[0m\u001b[1;33m,\u001b[0m\u001b[0mtoDirection\u001b[0m \u001b[1;33m+\u001b[0m \u001b[1;33m[\u001b[0m\u001b[0mson\u001b[0m\u001b[1;33m[\u001b[0m\u001b[1;36m1\u001b[0m\u001b[1;33m]\u001b[0m\u001b[1;33m]\u001b[0m\u001b[1;33m,\u001b[0m\u001b[0mtoCost\u001b[0m \u001b[1;33m+\u001b[0m \u001b[0mson\u001b[0m\u001b[1;33m[\u001b[0m\u001b[1;36m2\u001b[0m\u001b[1;33m]\u001b[0m\u001b[1;33m)\u001b[0m\u001b[1;33m)\u001b[0m\u001b[1;33m\u001b[0m\u001b[1;33m\u001b[0m\u001b[0m\n\u001b[0;32m     43\u001b[0m                 \u001b[0mvisitedList\u001b[0m\u001b[1;33m.\u001b[0m\u001b[0mappend\u001b[0m\u001b[1;33m(\u001b[0m\u001b[0mson\u001b[0m\u001b[1;33m[\u001b[0m\u001b[1;36m0\u001b[0m\u001b[1;33m]\u001b[0m\u001b[1;33m)\u001b[0m \u001b[1;31m# add to visited points\u001b[0m\u001b[1;33m\u001b[0m\u001b[1;33m\u001b[0m\u001b[0m\n",
      "\u001b[1;32m<ipython-input-3-fb4584c2c722>\u001b[0m in \u001b[0;36m__eq__\u001b[1;34m(self, other)\u001b[0m\n\u001b[0;32m    140\u001b[0m         \"\"\"\n\u001b[0;32m    141\u001b[0m         \u001b[1;32mfor\u001b[0m \u001b[0mrow\u001b[0m \u001b[1;32min\u001b[0m \u001b[0mrange\u001b[0m\u001b[1;33m(\u001b[0m \u001b[1;36m3\u001b[0m \u001b[1;33m)\u001b[0m\u001b[1;33m:\u001b[0m\u001b[1;33m\u001b[0m\u001b[1;33m\u001b[0m\u001b[0m\n\u001b[1;32m--> 142\u001b[1;33m             \u001b[1;32mif\u001b[0m \u001b[0mself\u001b[0m\u001b[1;33m.\u001b[0m\u001b[0mcells\u001b[0m\u001b[1;33m[\u001b[0m\u001b[0mrow\u001b[0m\u001b[1;33m]\u001b[0m \u001b[1;33m!=\u001b[0m \u001b[0mother\u001b[0m\u001b[1;33m.\u001b[0m\u001b[0mcells\u001b[0m\u001b[1;33m[\u001b[0m\u001b[0mrow\u001b[0m\u001b[1;33m]\u001b[0m\u001b[1;33m:\u001b[0m\u001b[1;33m\u001b[0m\u001b[1;33m\u001b[0m\u001b[0m\n\u001b[0m\u001b[0;32m    143\u001b[0m                 \u001b[1;32mreturn\u001b[0m \u001b[1;32mFalse\u001b[0m\u001b[1;33m\u001b[0m\u001b[1;33m\u001b[0m\u001b[0m\n\u001b[0;32m    144\u001b[0m         \u001b[1;32mreturn\u001b[0m \u001b[1;32mTrue\u001b[0m\u001b[1;33m\u001b[0m\u001b[1;33m\u001b[0m\u001b[0m\n",
      "\u001b[1;31mKeyboardInterrupt\u001b[0m: "
     ]
    }
   ],
   "source": [
    "#aux class with stack functions\n",
    "class Stack:\n",
    "    def __init__(self):\n",
    "        self.list = []\n",
    "\n",
    "    def push(self,item):\n",
    "        self.list.append(item)\n",
    "\n",
    "    def pop(self):\n",
    "        return self.list.pop()\n",
    "\n",
    "    def isEmpty(self):\n",
    "        return len(self.list) == 0\n",
    "\n",
    "def depthFirstSearch(problem):\n",
    "    fringe = Stack()\n",
    "    visitedList = []\n",
    "\n",
    "    #add the start point to queue\n",
    "    fringe.push((problem.getStartState(),[],0))\n",
    "    (state,toDirection,toCost) = fringe.pop()\n",
    "    #add to visited points\n",
    "    visitedList.append(state)\n",
    "\n",
    "    while not problem.isGoalState(state): \n",
    "        successors = problem.getSuccessors(state) #get next points\n",
    "        for son in successors:\n",
    "            if (not son[0] in visitedList) or (problem.isGoalState(son[0])): #if n visited add to stack\n",
    "                fringe.push((son[0],toDirection + [son[1]],toCost + son[2]))\n",
    "                visitedList.append(son[0]) \n",
    "        (state,toDirection,toCost) = fringe.pop()\n",
    "    return (state, toCost)\n",
    "puzzle = loadEightPuzzle(1)\n",
    "print(puzzle)\n",
    "test = EightPuzzleSearchProblem(puzzle)\n",
    "(solution, costBFS) = depthFirstSearch(test)\n",
    "print(\"\\n\")\n",
    "print(solution)\n",
    "print(\"final cost: \"+ str(cost))"
   ]
  },
  {
   "cell_type": "markdown",
   "metadata": {
    "colab_type": "text",
    "id": "z7IcKRI2lk_M"
   },
   "source": [
    "## Exercicio 3:\n",
    "Implemente o algoritmo de Busca de Custo Uniforme que recebe uma instância de `SearchProblem`:"
   ]
  },
  {
   "cell_type": "code",
   "execution_count": null,
   "metadata": {
    "colab": {},
    "colab_type": "code",
    "id": "vVg_P2srlk_O"
   },
   "outputs": [],
   "source": [
    "class PriorityQueue:\n",
    "    def  __init__(self):\n",
    "        self.heap = []\n",
    "        self.count = 0\n",
    "\n",
    "    def push(self, item, priority):\n",
    "        entry = (priority, self.count, item)\n",
    "        heapq.heappush(self.heap, entry)\n",
    "        self.count += 1\n",
    "\n",
    "    def pop(self):\n",
    "        (_, _, item) = heapq.heappop(self.heap)\n",
    "        return item\n",
    "\n",
    "    def isEmpty(self):\n",
    "        return len(self.heap) == 0\n",
    "\n",
    "def uniformCostSearch(problem):\n",
    "    fringe = PriorityQueue()\n",
    "    visitedList = []\n",
    "\n",
    "    #add start point to queue\n",
    "    fringe.push((problem.getStartState(),[],0),0) # push starting point with priority num of 0\n",
    "    (state,toDirection,toCost) = fringe.pop()\n",
    "    #add to visited points list\n",
    "    visitedList.append((state,toCost))\n",
    "\n",
    "    while not problem.isGoalState(state): # while n we search the path\n",
    "        successors = problem.getSuccessors(state) #get next point\n",
    "        for son in successors:\n",
    "            visitedExist = False\n",
    "            total_cost = toCost + son[2]\n",
    "            for (visitedState,visitedToCost) in visitedList:\n",
    "                if (son[0] == visitedState) and (total_cost >= visitedToCost):\n",
    "                    visitedExist = True # recognized visited point\n",
    "                    break\n",
    "\n",
    "            if not visitedExist:\n",
    "                 # push point with num of priority\n",
    "                fringe.push((son[0],toDirection + [son[1]],toCost + son[2]),toCost + son[2])\n",
    "                visitedList.append((son[0],toCost + son[2]))  # add to visited points\n",
    "\n",
    "        (state,toDirection,toCost) = fringe.pop()\n",
    "\n",
    "    return (state, toCost)\n",
    "puzzle = loadEightPuzzle(1)\n",
    "print(puzzle)\n",
    "test = EightPuzzleSearchProblem(puzzle)\n",
    "(solution, costBFS) = breadthFirstSearch(test)\n",
    "print(\"\\n\")\n",
    "print(solution)\n",
    "print(\"final cost: \"+ str(cost))"
   ]
  },
  {
   "cell_type": "markdown",
   "metadata": {
    "colab_type": "text",
    "id": "Y5f7eooAlmkE"
   },
   "source": [
    "## Exercicio 4:\n",
    "Implemente uma heurística para o problema e o algoritmo de Busca A* que recebe uma instância de `SearchProblem`:"
   ]
  },
  {
   "cell_type": "code",
   "execution_count": null,
   "metadata": {
    "colab": {},
    "colab_type": "code",
    "id": "p0ketmzelmkH"
   },
   "outputs": [],
   "source": [
    "def heuristicEightNumbers():\n",
    "    raise NotImplementedError()\n",
    "\n",
    "def aStarSearch(problem):\n",
    "    \"\"\"\n",
    "    *** YOUR CODE HERE ***\n",
    "    \"\"\"\n",
    "    raise NotImplementedError()"
   ]
  },
  {
   "cell_type": "markdown",
   "metadata": {
    "colab_type": "text",
    "id": "wtVxZPV6lnCG"
   },
   "source": [
    "## Exercicio 5:\n",
    "Compare os resultados obtidos por cada algoritmo"
   ]
  },
  {
   "cell_type": "code",
   "execution_count": null,
   "metadata": {
    "colab": {},
    "colab_type": "code",
    "id": "EgNhexv3lnCI"
   },
   "outputs": [],
   "source": []
  }
 ],
 "metadata": {
  "colab": {
   "name": "ia-exercicio-eight-numbers.ipynb",
   "provenance": [],
   "toc_visible": true,
   "version": "0.3.2"
  },
  "kernelspec": {
   "display_name": "Python 3",
   "language": "python",
   "name": "python3"
  },
  "language_info": {
   "codemirror_mode": {
    "name": "ipython",
    "version": 3
   },
   "file_extension": ".py",
   "mimetype": "text/x-python",
   "name": "python",
   "nbconvert_exporter": "python",
   "pygments_lexer": "ipython3",
   "version": "3.7.1"
  }
 },
 "nbformat": 4,
 "nbformat_minor": 1
}
